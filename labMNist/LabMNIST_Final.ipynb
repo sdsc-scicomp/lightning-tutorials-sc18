{
 "cells": [
  {
   "cell_type": "code",
   "execution_count": 1,
   "metadata": {},
   "outputs": [
    {
     "name": "stderr",
     "output_type": "stream",
     "text": [
      "Using TensorFlow backend.\n"
     ]
    },
    {
     "name": "stdout",
     "output_type": "stream",
     "text": [
      "part 1 done\n"
     ]
    }
   ],
   "source": [
    "#  MNIST tutorial (handwritten printed digits recognition tutorial)\n",
    "#  modified from\n",
    "#  https://elitedatascience.com/keras-tutorial-deep-learning-in-python\n",
    "#  for SDSC SI2017\n",
    "\n",
    "# ----------- IMPORT STATEMENTS ---------------\n",
    "import numpy as np\n",
    "np.random.seed(1)  # for reproducibility\n",
    "\n",
    "from keras.models import Sequential               #Sequential models are the standard stack of layers models\n",
    "from keras.layers import Dense, Dropout, Activation, Flatten   #These are core layer specification functions\n",
    "from keras.layers import Convolution2D, MaxPooling2D           #These are convolution layer functions\n",
    "from keras.utils import np_utils                         #Some utilities\n",
    "from keras import optimizers                             #For training algorithm\n",
    "#---------------------------------------------\n",
    "print('import done')"
   ]
  },
  {
   "cell_type": "code",
   "execution_count": 2,
   "metadata": {},
   "outputs": [
    {
     "name": "stdout",
     "output_type": "stream",
     "text": [
      "(5000, 28, 28)\n",
      "img load done\n"
     ]
    }
   ],
   "source": [
    "#--------------- LOAD and PREPARE DATA STATEMENTS ----------------\n",
    "# Load some numpy arrays that have the MNIST data\n",
    "#  (these are subsets extracted from the MNIST data set in Keras)\n",
    "X_train=np.load('X_train5k.npy')\n",
    "Y_train=np.load('Y_train5k.npy')\n",
    "X_test =np.load('X_test.npy')\n",
    "Y_test =np.load('Y_test.npy')\n",
    "\n",
    "print(X_train.shape)     #review the dimensions Note python3 uses print(X..) python 2 uses print X...\n",
    "\n",
    "#save a few training images with the label in the file name \n",
    "from PIL import Image\n",
    "for i in range(0,3):\n",
    "   im = Image.fromarray(X_train[i,:,:])\n",
    "   im.save(\"Xtrain_num\"+str(i)+\"_cat_\"+str(Y_train[i])+\".jpeg\")\n",
    "print('img load done')"
   ]
  },
  {
   "cell_type": "code",
   "execution_count": 3,
   "metadata": {},
   "outputs": [
    {
     "name": "stdout",
     "output_type": "stream",
     "text": [
      "(5000, 1, 28, 28)\n",
      "prep done\n"
     ]
    }
   ],
   "source": [
    "# --------- Reshape input data ------------\n",
    "#  b/c Keras expects N-3D images (ie 4D matrix)\n",
    "X_train = X_train.reshape(X_train.shape[0], 1, 28, 28)\n",
    "X_test  = X_test.reshape(X_test.shape[0],   1, 28, 28)\n",
    "\n",
    "#To confirm, we can print X_train's dimensions again:\n",
    "print(X_train.shape)\n",
    "\n",
    "#convert and put into 0-1 range\n",
    "X_train  = X_train.astype('float32')\n",
    "X_test   = X_test.astype('float32')\n",
    "X_train /= 255\n",
    "X_test  /= 255\n",
    "\n",
    "# Convert 1-dimensional class arrays to 10-dimensional class matrices\n",
    "Y_train = np_utils.to_categorical(Y_train, 10)\n",
    "Y_test  = np_utils.to_categorical(Y_test,  10)\n",
    "\n",
    "# ------------- End loading and preparing data --------------\n",
    "np.amax(X_train)   #this gets the max value over a flattened numpy array\n",
    "print('prep done')"
   ]
  },
  {
   "cell_type": "code",
   "execution_count": 69,
   "metadata": {},
   "outputs": [
    {
     "name": "stdout",
     "output_type": "stream",
     "text": [
      "modeldef and first conv layer done\n"
     ]
    }
   ],
   "source": [
    "# --------------Set up Model ---------------------\n",
    "mymodel = Sequential()\n",
    "\n",
    "numfilters = 16\n",
    "#add convolution layer of 32 or 16 or __ filters, 3x3 each, \n",
    "#     input shape for 1 image, channels refers to color dimension of input image\n",
    "mymodel.add(Convolution2D(numfilters, (3, 3),strides=1,  data_format=\"channels_first\",activation='relu', input_shape=(1,28,28))) \n",
    " \n",
    "print('modeldef and first conv layer done')\n"
   ]
  },
  {
   "cell_type": "code",
   "execution_count": 70,
   "metadata": {},
   "outputs": [
    {
     "data": {
      "text/plain": [
       "<tf.Tensor 'conv2d_5/Relu:0' shape=(?, 16, 26, 26) dtype=float32>"
      ]
     },
     "execution_count": 70,
     "metadata": {},
     "output_type": "execute_result"
    }
   ],
   "source": [
    "mymodel.layers[0].output # use this to check sizes of output  "
   ]
  },
  {
   "cell_type": "code",
   "execution_count": 71,
   "metadata": {
    "collapsed": true
   },
   "outputs": [],
   "source": [
    "#-----------------Now add more Convolution layers\n",
    "mymodel.add(Convolution2D(numfilters, (3, 3), activation='relu'))\n",
    "mymodel.add(MaxPooling2D(pool_size=(2,2))) #get Max over 2D region,and slide\n",
    "\n",
    "#optional?\n",
    "mymodel.add(Dropout(0.25))\n",
    " \n",
    "mymodel.add(Flatten())            #reorganize 2DxFilters output into 1D"
   ]
  },
  {
   "cell_type": "code",
   "execution_count": 72,
   "metadata": {},
   "outputs": [
    {
     "data": {
      "text/plain": [
       "<tf.Tensor 'max_pooling2d_3/MaxPool:0' shape=(?, 7, 12, 16) dtype=float32>"
      ]
     },
     "execution_count": 72,
     "metadata": {},
     "output_type": "execute_result"
    }
   ],
   "source": [
    "mymodel.layers[2].output   #size of output layer for max pooling"
   ]
  },
  {
   "cell_type": "code",
   "execution_count": 73,
   "metadata": {},
   "outputs": [
    {
     "name": "stdout",
     "output_type": "stream",
     "text": [
      "assemble model done\n"
     ]
    }
   ],
   "source": [
    "#----------------Now add final classification layers\n",
    "mymodel.add(Dense(128, activation='relu'))  #enter number of hidden units (no good rule, but start with ~ num of previous output) \n",
    "mymodel.add(Dropout(0.5))\n",
    "mymodel.add(Dense(10, activation='softmax'))\n",
    "print('assemble model done')"
   ]
  },
  {
   "cell_type": "code",
   "execution_count": 74,
   "metadata": {
    "collapsed": true
   },
   "outputs": [],
   "source": [
    "# --------- Now assemble (ie compile TensorFlow commands) and run -----\n",
    "mymodel.compile(loss='categorical_crossentropy',\n",
    "               optimizer='sgd',\n",
    "               metrics=['accuracy'])"
   ]
  },
  {
   "cell_type": "code",
   "execution_count": 75,
   "metadata": {},
   "outputs": [
    {
     "name": "stdout",
     "output_type": "stream",
     "text": [
      "Epoch 1/15\n",
      "5000/5000 [==============================] - 1s - loss: 2.2134 - acc: 0.2080     \n",
      "Epoch 2/15\n",
      "5000/5000 [==============================] - 1s - loss: 1.5684 - acc: 0.4872     \n",
      "Epoch 3/15\n",
      "5000/5000 [==============================] - 1s - loss: 0.9870 - acc: 0.6880     \n",
      "Epoch 4/15\n",
      "5000/5000 [==============================] - 1s - loss: 0.7813 - acc: 0.7520     \n",
      "Epoch 5/15\n",
      "5000/5000 [==============================] - 1s - loss: 0.6449 - acc: 0.7926     \n",
      "Epoch 6/15\n",
      "5000/5000 [==============================] - 1s - loss: 0.5880 - acc: 0.8226     \n",
      "Epoch 7/15\n",
      "5000/5000 [==============================] - 1s - loss: 0.5357 - acc: 0.8380     \n",
      "Epoch 8/15\n",
      "5000/5000 [==============================] - 1s - loss: 0.4896 - acc: 0.8494     \n",
      "Epoch 9/15\n",
      "5000/5000 [==============================] - 1s - loss: 0.4620 - acc: 0.8566     \n",
      "Epoch 10/15\n",
      "5000/5000 [==============================] - 1s - loss: 0.4123 - acc: 0.8760     \n",
      "Epoch 11/15\n",
      "5000/5000 [==============================] - 1s - loss: 0.4118 - acc: 0.8762     \n",
      "Epoch 12/15\n",
      "5000/5000 [==============================] - 1s - loss: 0.3827 - acc: 0.8798     \n",
      "Epoch 13/15\n",
      "5000/5000 [==============================] - 1s - loss: 0.3587 - acc: 0.8918     \n",
      "Epoch 14/15\n",
      "5000/5000 [==============================] - 1s - loss: 0.3403 - acc: 0.8994     \n",
      "Epoch 15/15\n",
      "5000/5000 [==============================] - 1s - loss: 0.3251 - acc: 0.9058     \n"
     ]
    },
    {
     "data": {
      "text/plain": [
       "<keras.callbacks.History at 0x2acb89501048>"
      ]
     },
     "execution_count": 75,
     "metadata": {},
     "output_type": "execute_result"
    }
   ],
   "source": [
    "#------------ Now Run Training\n",
    "mymodel.fit(X_train, Y_train, \n",
    "          batch_size=32, epochs=15, verbose=1)  #batch up 32 examples before adjusting weights,\n",
    "                                                #sweep through training data 'epochs' times\n"
   ]
  },
  {
   "cell_type": "code",
   "execution_count": 85,
   "metadata": {},
   "outputs": [
    {
     "name": "stdout",
     "output_type": "stream",
     "text": [
      "5000/5000 [==============================] - 0s\n",
      "10000/10000 [==============================] - 0s\n",
      "[0.17481975257396698, 0.94999998807907104]\n",
      "[0.22068385779857635, 0.93440002202987671]\n"
     ]
    }
   ],
   "source": [
    "#--------- Get overall prediction score\n",
    "trainscore = mymodel.evaluate(X_train, Y_train, verbose=1) # get overal score\n",
    "testscore  = mymodel.evaluate(X_test, Y_test, verbose=1) # get overal score\n",
    "#somepred  = mymodel.predict(X_test,verbose=0)           # get predicted labels\n",
    "print(trainscore)\n",
    "print(testscore)"
   ]
  },
  {
   "cell_type": "code",
   "execution_count": 12,
   "metadata": {},
   "outputs": [
    {
     "name": "stdout",
     "output_type": "stream",
     "text": [
      "[[  9.42957937e-04   3.00569413e-03   9.58147287e-01   5.45267202e-03\n",
      "    4.38347843e-06   4.43019299e-03   2.34138723e-02   1.51725008e-05\n",
      "    4.58504632e-03   2.70302803e-06]\n",
      " [  6.50797156e-05   9.90308940e-01   1.96484011e-03   8.63826601e-04\n",
      "    2.97552440e-04   4.14608076e-04   1.85040955e-03   2.58441246e-03\n",
      "    1.04186684e-03   6.08464004e-04]]\n",
      "[[ 0.  0.  1.  0.  0.  0.  0.  0.  0.  0.]\n",
      " [ 0.  1.  0.  0.  0.  0.  0.  0.  0.  0.]]\n"
     ]
    }
   ],
   "source": [
    "#-----------Optional: View some of the output\n",
    "print(somepred[1:3])\n",
    "#Notice each row is 10 elements, each element is a prediction of the number labels \n",
    "print(Y_test[1:3])"
   ]
  },
  {
   "cell_type": "code",
   "execution_count": 64,
   "metadata": {},
   "outputs": [
    {
     "data": {
      "image/png": "[encoded data removed]",
      "text/plain": [
       "<matplotlib.figure.Figure at 0x2acb897a2240>"
      ]
     },
     "metadata": {},
     "output_type": "display_data"
    },
    {
     "name": "stdout",
     "output_type": "stream",
     "text": [
      "im loaded\n"
     ]
    }
   ],
   "source": [
    "#To view a sample image\n",
    "import matplotlib.pyplot as plt      #These provide matlab type of plotting functions\n",
    "import matplotlib.image as mpimg\n",
    "\n",
    "img_filename = \"Xtrain_num0_cat_5.jpeg\" #% scriptDir \n",
    "im = mpimg.imread(img_filename)\n",
    "plt.figure()\n",
    "plt.imshow(im,'gray')\n",
    "plt.show()\n",
    "print('im loaded')"
   ]
  },
  {
   "cell_type": "code",
   "execution_count": 54,
   "metadata": {},
   "outputs": [
    {
     "name": "stdout",
     "output_type": "stream",
     "text": [
      "4.0\n"
     ]
    },
    {
     "data": {
      "image/png": "[encoded data removed]",
      "text/plain": [
       "<matplotlib.figure.Figure at 0x2acb89582c18>"
      ]
     },
     "metadata": {},
     "output_type": "display_data"
    },
    {
     "name": "stdout",
     "output_type": "stream",
     "text": [
      "done plotting weights mosaic\n"
     ]
    }
   ],
   "source": [
    "# ------------ GET WEIGHTS From Convolution Layer and make mosaic image \n",
    "Wlist   =mymodel.layers[0].get_weights()\n",
    "W3D     =np.squeeze(Wlist[0])\n",
    "W3D.shape\n",
    "W3Dchan =W3D.swapaxes(1,2).swapaxes(0,1)  #get 32 as 1st dimension\n",
    "\n",
    "Wmin       =np.amin(W3Dchan)\n",
    "Wmax       =np.amax(W3Dchan-Wmin)\n",
    "Wsc        =np.int_(255*(W3Dchan-Wmin)/Wmax)\n",
    "ncol =4\n",
    "nrow =np.ceil(numfilters/ncol)\n",
    "print(nrow)\n",
    "plt.figure()\n",
    "for i in range(Wsc.shape[0]):\n",
    "   plt.subplot(nrow,ncol,i+1)\n",
    "   plt.imshow(Wsc[i],'gray')\n",
    "   plt.axis('off')\n",
    "#plt.savefig(\"test.png\", bbox_inches='tight')\n",
    "plt.show()\n",
    "print('done plotting weights mosaic')"
   ]
  },
  {
   "cell_type": "code",
   "execution_count": 66,
   "metadata": {},
   "outputs": [
    {
     "data": {
      "text/plain": [
       "(1, 16, 26, 26)"
      ]
     },
     "execution_count": 66,
     "metadata": {},
     "output_type": "execute_result"
    }
   ],
   "source": [
    "#  ---------------- NOW Visualize the activations for the first training example --------\n",
    "from keras import backend as K    #backend is tensorflow\n",
    "\n",
    "get_layer_output = K.function([mymodel.layers[0].input],[mymodel.layers[0].output]) #set up function\n",
    "x                = np.expand_dims(X_train[0],0)           #set up a 4D input of 1 image training set \n",
    "layer_output     = get_layer_output([x])[0]  #get output using K.function\n",
    "\n",
    "layer_output.shape    #check output shape and use it in next cell, first dimension is number of filters\n",
    "\n"
   ]
  },
  {
   "cell_type": "code",
   "execution_count": 67,
   "metadata": {
    "scrolled": true
   },
   "outputs": [
    {
     "data": {
      "image/png": "[encoded data removed]",
      "text/plain": [
       "<matplotlib.figure.Figure at 0x2acb89895ef0>"
      ]
     },
     "metadata": {},
     "output_type": "display_data"
    },
    {
     "name": "stdout",
     "output_type": "stream",
     "text": [
      "done plotting layer activatio output mosaic\n"
     ]
    }
   ],
   "source": [
    "# --- Now output a mosaic\n",
    "layeroutput3D      = np.squeeze(layer_output)      \n",
    "ncol =4\n",
    "nrow =np.ceil(numfilters/ncol)\n",
    "plt.figure()\n",
    "for i in range(layeroutput3D.shape[0]):\n",
    "   plt.subplot(nrow,ncol,i+1)\n",
    "   plt.imshow(layeroutput3D[i],'gray')\n",
    "   plt.axis('off')\n",
    "#plt.savefig(\"test.png\", bbox_inches='tight')\n",
    "plt.show()\n",
    "print('done plotting layer activation output mosaic')\n"
   ]
  },
  {
   "cell_type": "code",
   "execution_count": null,
   "metadata": {
    "collapsed": true
   },
   "outputs": [],
   "source": []
  }
 ],
 "metadata": {
  "kernelspec": {
   "display_name": "Python 3",
   "language": "python",
   "name": "python3"
  },
  "language_info": {
   "codemirror_mode": {
    "name": "ipython",
    "version": 3
   },
   "file_extension": ".py",
   "mimetype": "text/x-python",
   "name": "python",
   "nbconvert_exporter": "python",
   "pygments_lexer": "ipython3",
   "version": "3.5.1+"
  }
 },
 "nbformat": 4,
 "nbformat_minor": 2
}
